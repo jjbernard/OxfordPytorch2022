{
 "cells": [
  {
   "cell_type": "code",
   "execution_count": 1,
   "id": "a5da7b1d-5392-4332-80e2-c20ff5242a61",
   "metadata": {},
   "outputs": [],
   "source": [
    "import torch"
   ]
  },
  {
   "cell_type": "markdown",
   "id": "31b0b5bc-41f0-4e30-b2a3-f83d3adacd7c",
   "metadata": {},
   "source": [
    "## Basic tensor operations"
   ]
  },
  {
   "cell_type": "code",
   "execution_count": 2,
   "id": "7c1ac477-46ef-40a9-a840-3c4d98c0a0f2",
   "metadata": {},
   "outputs": [
    {
     "data": {
      "text/plain": [
       "tensor([[1, 2],\n",
       "        [3, 4]])"
      ]
     },
     "execution_count": 2,
     "metadata": {},
     "output_type": "execute_result"
    }
   ],
   "source": [
    "torch.tensor([[1,2], [3,4]])"
   ]
  },
  {
   "cell_type": "code",
   "execution_count": 3,
   "id": "dfe1499a-3c9a-4a84-a4cf-f5bd4b51528f",
   "metadata": {},
   "outputs": [
    {
     "data": {
      "text/plain": [
       "tensor([[1., 2.],\n",
       "        [3., 4.],\n",
       "        [4., 5.]])"
      ]
     },
     "execution_count": 3,
     "metadata": {},
     "output_type": "execute_result"
    }
   ],
   "source": [
    "a = torch.tensor([[1,2],[3,4],[4,5]], dtype=torch.float)\n",
    "a"
   ]
  },
  {
   "cell_type": "code",
   "execution_count": 4,
   "id": "ebe7f5b0-e5ab-4680-8a1b-7815d6e9c416",
   "metadata": {},
   "outputs": [
    {
     "data": {
      "text/plain": [
       "torch.float32"
      ]
     },
     "execution_count": 4,
     "metadata": {},
     "output_type": "execute_result"
    }
   ],
   "source": [
    "a.dtype"
   ]
  },
  {
   "cell_type": "code",
   "execution_count": 5,
   "id": "2811d0c2-d4cf-4a9c-8942-b3048617ccf1",
   "metadata": {},
   "outputs": [
    {
     "data": {
      "text/plain": [
       "2"
      ]
     },
     "execution_count": 5,
     "metadata": {},
     "output_type": "execute_result"
    }
   ],
   "source": [
    "a.ndim"
   ]
  },
  {
   "cell_type": "code",
   "execution_count": 6,
   "id": "4eb51c70-9909-4b9f-9883-6608cf496b3a",
   "metadata": {},
   "outputs": [
    {
     "data": {
      "text/plain": [
       "tensor([[0.8323, 0.2306],\n",
       "        [0.3138, 0.7184],\n",
       "        [0.1399, 0.6195]])"
      ]
     },
     "execution_count": 6,
     "metadata": {},
     "output_type": "execute_result"
    }
   ],
   "source": [
    "b = torch.rand(3,2)\n",
    "b"
   ]
  },
  {
   "cell_type": "code",
   "execution_count": 7,
   "id": "0b440098-b033-459c-9714-5571b77dccfe",
   "metadata": {},
   "outputs": [
    {
     "name": "stdout",
     "output_type": "stream",
     "text": [
      "tensor(0.2306)\n"
     ]
    }
   ],
   "source": [
    "print(b[0,1])"
   ]
  },
  {
   "cell_type": "code",
   "execution_count": 8,
   "id": "414606a1-1e8a-4a8d-898e-837960d304e7",
   "metadata": {},
   "outputs": [
    {
     "name": "stdout",
     "output_type": "stream",
     "text": [
      "tensor([0.2306, 0.7184, 0.6195])\n"
     ]
    }
   ],
   "source": [
    "print(b[:,1])"
   ]
  },
  {
   "cell_type": "code",
   "execution_count": 9,
   "id": "505c9fe5-c33d-4cbe-b2da-c33e2b0e58da",
   "metadata": {},
   "outputs": [
    {
     "data": {
      "text/plain": [
       "(tensor([[1., 1., 1.],\n",
       "         [1., 1., 1.]]),\n",
       " tensor([[0., 0., 0.],\n",
       "         [0., 0., 0.]]))"
      ]
     },
     "execution_count": 9,
     "metadata": {},
     "output_type": "execute_result"
    }
   ],
   "source": [
    "e = torch.ones(2,3)\n",
    "f = torch.zeros(2,3)\n",
    "\n",
    "e, f"
   ]
  },
  {
   "cell_type": "code",
   "execution_count": 10,
   "id": "d87d05aa-4cb6-431f-90cf-0543fc5e4c9d",
   "metadata": {},
   "outputs": [
    {
     "data": {
      "text/plain": [
       "tensor([[0.1245, 0.5158],\n",
       "        [0.8957, 0.3128],\n",
       "        [0.1306, 0.8860]])"
      ]
     },
     "execution_count": 10,
     "metadata": {},
     "output_type": "execute_result"
    }
   ],
   "source": [
    "torch.rand_like(a)"
   ]
  },
  {
   "cell_type": "code",
   "execution_count": 16,
   "id": "1e4d7372",
   "metadata": {},
   "outputs": [],
   "source": [
    "z= torch.rand(3,2,3,5)"
   ]
  },
  {
   "cell_type": "code",
   "execution_count": 17,
   "id": "a6712ec1",
   "metadata": {},
   "outputs": [
    {
     "data": {
      "text/plain": [
       "tensor([[[[0.1670, 0.0108, 0.2460, 0.5340, 0.5333],\n",
       "          [0.3266, 0.1077, 0.7871, 0.4797, 0.5911],\n",
       "          [0.7527, 0.8231, 0.8182, 0.5889, 0.9825]],\n",
       "\n",
       "         [[0.5847, 0.8545, 0.5370, 0.9809, 0.5816],\n",
       "          [0.5502, 0.1802, 0.3692, 0.5768, 0.0575],\n",
       "          [0.9149, 0.9337, 0.8610, 0.3490, 0.0012]]],\n",
       "\n",
       "\n",
       "        [[[0.8168, 0.9635, 0.8206, 0.0799, 0.4205],\n",
       "          [0.2866, 0.5079, 0.1478, 0.9994, 0.9285],\n",
       "          [0.6010, 0.1094, 0.9879, 0.1990, 0.6127]],\n",
       "\n",
       "         [[0.8896, 0.2483, 0.8561, 0.6977, 0.5952],\n",
       "          [0.8730, 0.9101, 0.9883, 0.9074, 0.0606],\n",
       "          [0.6540, 0.7647, 0.8359, 0.2220, 0.3640]]],\n",
       "\n",
       "\n",
       "        [[[0.2476, 0.0062, 0.1289, 0.5953, 0.0849],\n",
       "          [0.5976, 0.7818, 0.4105, 0.5008, 0.2702],\n",
       "          [0.4732, 0.1323, 0.2323, 0.1563, 0.7246]],\n",
       "\n",
       "         [[0.6708, 0.8504, 0.4519, 0.9423, 0.5582],\n",
       "          [0.5343, 0.8261, 0.2524, 0.3710, 0.6241],\n",
       "          [0.4616, 0.2479, 0.0338, 0.2548, 0.0041]]]])"
      ]
     },
     "execution_count": 17,
     "metadata": {},
     "output_type": "execute_result"
    }
   ],
   "source": [
    "z"
   ]
  },
  {
   "cell_type": "code",
   "execution_count": 18,
   "id": "95ebe940",
   "metadata": {},
   "outputs": [
    {
     "data": {
      "text/plain": [
       "4"
      ]
     },
     "execution_count": 18,
     "metadata": {},
     "output_type": "execute_result"
    }
   ],
   "source": [
    "z.ndim"
   ]
  },
  {
   "cell_type": "code",
   "execution_count": 19,
   "id": "7fb92b0a-f7b3-45fe-8964-9e16bdba2478",
   "metadata": {},
   "outputs": [
    {
     "data": {
      "text/plain": [
       "tensor([[1., 1.],\n",
       "        [1., 1.],\n",
       "        [1., 1.]])"
      ]
     },
     "execution_count": 19,
     "metadata": {},
     "output_type": "execute_result"
    }
   ],
   "source": [
    "torch.ones_like(a)"
   ]
  },
  {
   "cell_type": "code",
   "execution_count": 20,
   "id": "dead4524-b7d3-46a5-b8a8-9bcd025c61aa",
   "metadata": {},
   "outputs": [
    {
     "data": {
      "text/plain": [
       "tensor([[0., 0.],\n",
       "        [0., 0.],\n",
       "        [0., 0.]])"
      ]
     },
     "execution_count": 20,
     "metadata": {},
     "output_type": "execute_result"
    }
   ],
   "source": [
    "torch.zeros_like(a)"
   ]
  },
  {
   "cell_type": "code",
   "execution_count": 21,
   "id": "af075bbe-2ec3-4025-9584-bb61a680ea04",
   "metadata": {},
   "outputs": [
    {
     "data": {
      "text/plain": [
       "tensor([[1., 1.],\n",
       "        [1., 1.],\n",
       "        [1., 1.]])"
      ]
     },
     "execution_count": 21,
     "metadata": {},
     "output_type": "execute_result"
    }
   ],
   "source": [
    "e.t()"
   ]
  },
  {
   "cell_type": "code",
   "execution_count": 22,
   "id": "d0e54bd0-e570-4ba5-9995-1e7a813a9274",
   "metadata": {},
   "outputs": [
    {
     "data": {
      "text/plain": [
       "tensor(6.)"
      ]
     },
     "execution_count": 22,
     "metadata": {},
     "output_type": "execute_result"
    }
   ],
   "source": [
    "e.sum()"
   ]
  },
  {
   "cell_type": "code",
   "execution_count": 24,
   "id": "1e605900-2d45-4a9d-9f5f-b6091a647c13",
   "metadata": {},
   "outputs": [
    {
     "data": {
      "text/plain": [
       "(torch.Size([2, 3]), 2)"
      ]
     },
     "execution_count": 24,
     "metadata": {},
     "output_type": "execute_result"
    }
   ],
   "source": [
    "e.size(), e.ndim"
   ]
  },
  {
   "cell_type": "code",
   "execution_count": 25,
   "id": "0ac32dc9-8d7a-447c-91f9-313a6c65fc02",
   "metadata": {},
   "outputs": [
    {
     "data": {
      "text/plain": [
       "tensor([[1.5664, 1.4737],\n",
       "        [1.5342, 1.7484],\n",
       "        [1.0773, 1.9953]])"
      ]
     },
     "execution_count": 25,
     "metadata": {},
     "output_type": "execute_result"
    }
   ],
   "source": [
    "e.t().add(torch.rand_like(a))"
   ]
  },
  {
   "cell_type": "code",
   "execution_count": 26,
   "id": "76f06e13-e38d-4180-9d82-fd27c3622126",
   "metadata": {},
   "outputs": [],
   "source": [
    "import numpy as np"
   ]
  },
  {
   "cell_type": "code",
   "execution_count": 27,
   "id": "eeecc423-87d1-4069-b156-b7947c0efc3b",
   "metadata": {},
   "outputs": [],
   "source": [
    "c = b.numpy()"
   ]
  },
  {
   "cell_type": "code",
   "execution_count": 28,
   "id": "e807423e-f818-4294-a3e0-d4f367f17119",
   "metadata": {},
   "outputs": [
    {
     "data": {
      "text/plain": [
       "array([[0.8323099 , 0.23062587],\n",
       "       [0.31381303, 0.7184022 ],\n",
       "       [0.13991421, 0.61952716]], dtype=float32)"
      ]
     },
     "execution_count": 28,
     "metadata": {},
     "output_type": "execute_result"
    }
   ],
   "source": [
    "c"
   ]
  },
  {
   "cell_type": "code",
   "execution_count": 29,
   "id": "0a7c792a-ed0d-424c-9d8a-fbe8ac412bb6",
   "metadata": {},
   "outputs": [
    {
     "data": {
      "text/plain": [
       "numpy.ndarray"
      ]
     },
     "execution_count": 29,
     "metadata": {},
     "output_type": "execute_result"
    }
   ],
   "source": [
    "type(c)"
   ]
  },
  {
   "cell_type": "code",
   "execution_count": 30,
   "id": "12aaa900-e9b2-494a-9b23-a96ada14a752",
   "metadata": {},
   "outputs": [],
   "source": [
    "d = torch.from_numpy(c)"
   ]
  },
  {
   "cell_type": "code",
   "execution_count": 31,
   "id": "a8b29a5b-ff05-4577-9396-dd196e4d37da",
   "metadata": {},
   "outputs": [
    {
     "data": {
      "text/plain": [
       "torch.Tensor"
      ]
     },
     "execution_count": 31,
     "metadata": {},
     "output_type": "execute_result"
    }
   ],
   "source": [
    "type(d)"
   ]
  },
  {
   "cell_type": "code",
   "execution_count": 32,
   "id": "ecddd873-c1ce-4835-ae7a-a8d02d7c5452",
   "metadata": {},
   "outputs": [],
   "source": [
    "g = torch.zeros(2,1)"
   ]
  },
  {
   "cell_type": "code",
   "execution_count": 33,
   "id": "369963c9",
   "metadata": {},
   "outputs": [
    {
     "data": {
      "text/plain": [
       "tensor([[0.],\n",
       "        [0.]])"
      ]
     },
     "execution_count": 33,
     "metadata": {},
     "output_type": "execute_result"
    }
   ],
   "source": [
    "g"
   ]
  },
  {
   "cell_type": "code",
   "execution_count": 34,
   "id": "8d31dd6f-1385-4a10-8a41-5f4fb1c6c73f",
   "metadata": {},
   "outputs": [],
   "source": [
    "h = g.numpy()"
   ]
  },
  {
   "cell_type": "code",
   "execution_count": 35,
   "id": "267ab77f",
   "metadata": {},
   "outputs": [
    {
     "data": {
      "text/plain": [
       "array([[0.],\n",
       "       [0.]], dtype=float32)"
      ]
     },
     "execution_count": 35,
     "metadata": {},
     "output_type": "execute_result"
    }
   ],
   "source": [
    "h"
   ]
  },
  {
   "cell_type": "code",
   "execution_count": 36,
   "id": "93ceb39d-bfb6-4519-9376-9d9a7149e380",
   "metadata": {},
   "outputs": [
    {
     "data": {
      "text/plain": [
       "tensor([[4.],\n",
       "        [4.]])"
      ]
     },
     "execution_count": 36,
     "metadata": {},
     "output_type": "execute_result"
    }
   ],
   "source": [
    "g.add_(4)"
   ]
  },
  {
   "cell_type": "code",
   "execution_count": 37,
   "id": "af5766ae-6e32-40a8-9e37-34060e17d97b",
   "metadata": {},
   "outputs": [
    {
     "data": {
      "text/plain": [
       "tensor([[4.],\n",
       "        [4.]])"
      ]
     },
     "execution_count": 37,
     "metadata": {},
     "output_type": "execute_result"
    }
   ],
   "source": [
    "g"
   ]
  },
  {
   "cell_type": "code",
   "execution_count": 38,
   "id": "756a3854-3465-402a-9ebe-b08a4d1717e6",
   "metadata": {},
   "outputs": [
    {
     "data": {
      "text/plain": [
       "array([[4.],\n",
       "       [4.]], dtype=float32)"
      ]
     },
     "execution_count": 38,
     "metadata": {},
     "output_type": "execute_result"
    }
   ],
   "source": [
    "h"
   ]
  },
  {
   "cell_type": "code",
   "execution_count": 39,
   "id": "16a7e018-8109-43a6-ae56-92edd80ceb94",
   "metadata": {},
   "outputs": [
    {
     "data": {
      "text/plain": [
       "False"
      ]
     },
     "execution_count": 39,
     "metadata": {},
     "output_type": "execute_result"
    }
   ],
   "source": [
    "torch.cuda.is_available()"
   ]
  },
  {
   "cell_type": "markdown",
   "id": "d8679c00-8224-47fe-90aa-15e1b5c0af62",
   "metadata": {},
   "source": [
    "## Transforms"
   ]
  },
  {
   "cell_type": "code",
   "execution_count": 40,
   "id": "3c36fb2d-8912-4480-af66-4b452e817330",
   "metadata": {},
   "outputs": [],
   "source": [
    "from torchvision import datasets, transforms\n",
    "from torch.utils.data import DataLoader"
   ]
  },
  {
   "cell_type": "code",
   "execution_count": 41,
   "id": "ce8468ab-a99f-4c20-9f4a-26ba41951815",
   "metadata": {},
   "outputs": [],
   "source": [
    "trfs = transforms.Compose([transforms.ToTensor(), transforms.Normalize((0.485, 0.456, 0.406), (0.229, 0.224, 0.225))])"
   ]
  },
  {
   "cell_type": "code",
   "execution_count": 42,
   "id": "69ff17db-ffee-4887-a2cf-f633558ce61b",
   "metadata": {},
   "outputs": [
    {
     "data": {
      "text/plain": [
       "Compose(\n",
       "    ToTensor()\n",
       "    Normalize(mean=(0.485, 0.456, 0.406), std=(0.229, 0.224, 0.225))\n",
       ")"
      ]
     },
     "execution_count": 42,
     "metadata": {},
     "output_type": "execute_result"
    }
   ],
   "source": [
    "trfs"
   ]
  },
  {
   "cell_type": "code",
   "execution_count": 43,
   "id": "7c6e652b-1b17-43ba-9d47-b0abbcaebee1",
   "metadata": {},
   "outputs": [
    {
     "name": "stdout",
     "output_type": "stream",
     "text": [
      "Downloading https://www.cs.toronto.edu/~kriz/cifar-10-python.tar.gz to ./CIFAR10/cifar-10-python.tar.gz\n"
     ]
    },
    {
     "data": {
      "application/vnd.jupyter.widget-view+json": {
       "model_id": "cc96d26289264a82899df8ee6c5a2111",
       "version_major": 2,
       "version_minor": 0
      },
      "text/plain": [
       "  0%|          | 0/170498071 [00:00<?, ?it/s]"
      ]
     },
     "metadata": {},
     "output_type": "display_data"
    },
    {
     "name": "stdout",
     "output_type": "stream",
     "text": [
      "Extracting ./CIFAR10/cifar-10-python.tar.gz to ./CIFAR10\n"
     ]
    }
   ],
   "source": [
    "train_ds = datasets.CIFAR10(root='./CIFAR10', train=True, download=True, transform=trfs)"
   ]
  },
  {
   "cell_type": "code",
   "execution_count": 44,
   "id": "9be056c1-16f4-42a6-b4a5-463166bf71f8",
   "metadata": {},
   "outputs": [
    {
     "data": {
      "text/plain": [
       "Dataset CIFAR10\n",
       "    Number of datapoints: 50000\n",
       "    Root location: ./CIFAR10\n",
       "    Split: Train\n",
       "    StandardTransform\n",
       "Transform: Compose(\n",
       "               ToTensor()\n",
       "               Normalize(mean=(0.485, 0.456, 0.406), std=(0.229, 0.224, 0.225))\n",
       "           )"
      ]
     },
     "execution_count": 44,
     "metadata": {},
     "output_type": "execute_result"
    }
   ],
   "source": [
    "train_ds"
   ]
  },
  {
   "cell_type": "code",
   "execution_count": 45,
   "id": "2c600e80-44f6-46ce-a85c-2fd67f78b4f1",
   "metadata": {},
   "outputs": [],
   "source": [
    "train_dl = DataLoader(train_ds, batch_size=4, shuffle=False, num_workers=12)"
   ]
  },
  {
   "cell_type": "code",
   "execution_count": 46,
   "id": "06a67726-406c-4e9f-a7a5-de9339d6e04b",
   "metadata": {},
   "outputs": [],
   "source": [
    "a = next(iter(train_dl))"
   ]
  },
  {
   "cell_type": "code",
   "execution_count": 47,
   "id": "c6e3579a-370a-43c1-9aec-fb93c220866d",
   "metadata": {},
   "outputs": [
    {
     "data": {
      "text/plain": [
       "(tensor([[[[-1.1075, -1.3815, -1.2617,  ...,  0.5878,  0.4851,  0.4166],\n",
       "           [-1.8439, -2.1179, -1.8097,  ..., -0.0116, -0.0801, -0.0287],\n",
       "           [-1.6898, -1.8439, -1.2788,  ..., -0.0972, -0.0629, -0.2513],\n",
       "           ...,\n",
       "           [ 1.4440,  1.3242,  1.2728,  ...,  0.6221, -1.1589, -1.2103],\n",
       "           [ 0.9646,  0.8447,  1.0673,  ...,  1.0331, -0.4568, -0.6965],\n",
       "           [ 0.9132,  0.7591,  0.9474,  ...,  1.5810,  0.4679, -0.0116]],\n",
       " \n",
       "          [[-0.9503, -1.2304, -1.1954,  ...,  0.2752,  0.1527,  0.1352],\n",
       "           [-1.6856, -2.0357, -1.8957,  ..., -0.4951, -0.5826, -0.5126],\n",
       "           [-1.6155, -1.9132, -1.5630,  ..., -0.5651, -0.5651, -0.7577],\n",
       "           ...,\n",
       "           [ 0.9405,  0.6429,  0.7829,  ...,  0.2927, -1.4930, -1.4405],\n",
       "           [ 0.3978,  0.1176,  0.4853,  ...,  0.5553, -0.9503, -1.1078],\n",
       "           [ 0.4853,  0.2227,  0.4503,  ...,  1.1856,  0.0301, -0.4251]],\n",
       " \n",
       "          [[-0.7064, -1.0201, -1.0550,  ...,  0.0779, -0.0267, -0.0092],\n",
       "           [-1.4559, -1.8044, -1.8044,  ..., -0.8458, -0.9330, -0.8110],\n",
       "           [-1.4384, -1.8044, -1.6650,  ..., -0.9330, -0.9330, -1.0724],\n",
       "           ...,\n",
       "           [-0.1312, -1.2119, -1.3513,  ..., -0.5844, -1.6824, -1.4559],\n",
       "           [-0.1312, -1.0724, -1.2816,  ..., -0.1661, -1.2119, -1.2119],\n",
       "           [ 0.2173, -0.1661, -0.2881,  ...,  0.6356, -0.3404, -0.5495]]],\n",
       " \n",
       " \n",
       "         [[[ 0.5193,  0.0398, -0.3198,  ..., -0.5596, -0.6281, -0.7650],\n",
       "           [ 0.2796,  0.3652,  0.0227,  ..., -0.4739, -0.7993, -0.9020],\n",
       "           [ 0.2796,  0.2624, -0.1486,  ..., -0.7650, -0.9534, -0.9705],\n",
       "           ...,\n",
       "           [ 0.8789,  0.5536,  0.5193,  ..., -1.3987, -1.0733, -0.5253],\n",
       "           [ 0.7077,  0.5536,  0.6049,  ..., -0.3541, -0.0116,  0.1254],\n",
       "           [ 0.6734,  0.5878,  0.6734,  ...,  0.3309,  0.3309,  0.3309]],\n",
       " \n",
       "          [[ 1.0630,  0.3627, -0.2150,  ..., -0.3725, -0.4601, -0.6176],\n",
       "           [ 0.7654,  0.6429,  0.1527,  ..., -0.3025, -0.6352, -0.7577],\n",
       "           [ 0.6779,  0.5203, -0.0224,  ..., -0.6001, -0.8102, -0.8277],\n",
       "           ...,\n",
       "           [ 0.8880,  0.6604,  0.7654,  ..., -1.4405, -1.1078, -0.5826],\n",
       "           [ 0.6604,  0.6254,  0.7829,  ..., -0.4076, -0.0399,  0.0826],\n",
       "           [ 0.5553,  0.5553,  0.6954,  ...,  0.2927,  0.3102,  0.2927]],\n",
       " \n",
       "          [[ 1.4548,  0.5659, -0.1487,  ..., -0.5670, -0.5670, -0.5844],\n",
       "           [ 1.1411,  0.8797,  0.2522,  ..., -0.4450, -0.7238, -0.7413],\n",
       "           [ 1.0539,  0.7925,  0.1476,  ..., -0.6890, -0.8458, -0.8458],\n",
       "           ...,\n",
       "           [ 1.0888,  0.9842,  1.1585,  ..., -1.1770, -0.8110, -0.2184],\n",
       "           [ 0.4265,  0.4614,  0.6705,  ..., -0.1312,  0.2871,  0.4788],\n",
       "           [ 0.2871,  0.3219,  0.5136,  ...,  0.6182,  0.6705,  0.7054]]],\n",
       " \n",
       " \n",
       "         [[[ 2.2489,  2.2147,  2.2147,  ...,  2.2147,  2.2147,  2.2147],\n",
       "           [ 2.2489,  2.2489,  2.2489,  ...,  2.2489,  2.2489,  2.2489],\n",
       "           [ 2.2489,  2.2318,  2.2318,  ...,  2.2318,  2.2318,  2.2318],\n",
       "           ...,\n",
       "           [-0.1828, -0.2171, -0.3198,  ..., -0.8849, -0.8849, -0.8849],\n",
       "           [-0.2171, -0.3369, -0.4226,  ..., -0.9534, -0.9192, -0.7822],\n",
       "           [-0.3027, -0.4226, -0.4911,  ..., -0.7822, -0.7650, -0.7479]],\n",
       " \n",
       "          [[ 2.4286,  2.3936,  2.3936,  ...,  2.3936,  2.3936,  2.3936],\n",
       "           [ 2.4286,  2.4286,  2.4286,  ...,  2.4286,  2.4286,  2.4286],\n",
       "           [ 2.4286,  2.4111,  2.4111,  ...,  2.4111,  2.4111,  2.4111],\n",
       "           ...,\n",
       "           [ 0.0651,  0.0301, -0.0749,  ..., -0.6176, -0.6352, -0.6352],\n",
       "           [ 0.0301, -0.0924, -0.1800,  ..., -0.7227, -0.7052, -0.5651],\n",
       "           [-0.0574, -0.1800, -0.2500,  ..., -0.5476, -0.5476, -0.5301]],\n",
       " \n",
       "          [[ 2.6400,  2.6051,  2.6051,  ...,  2.6051,  2.6051,  2.6051],\n",
       "           [ 2.6400,  2.6400,  2.6400,  ...,  2.6400,  2.6400,  2.6400],\n",
       "           [ 2.6400,  2.6226,  2.6226,  ...,  2.6226,  2.6226,  2.6226],\n",
       "           ...,\n",
       "           [ 0.1476,  0.1302,  0.0431,  ..., -0.4101, -0.4275, -0.4275],\n",
       "           [ 0.1128,  0.0082, -0.0964,  ..., -0.5321, -0.4973, -0.3753],\n",
       "           [ 0.0256, -0.0964, -0.1661,  ..., -0.3578, -0.3578, -0.3404]]],\n",
       " \n",
       " \n",
       "         [[[-1.6384, -1.4843, -1.4672,  ..., -0.8164, -0.7308, -0.6623],\n",
       "           [-1.5528, -1.5357, -1.5699,  ..., -0.4911, -0.4739, -0.6623],\n",
       "           [-1.4500, -1.4329, -1.1418,  ..., -0.5253, -0.2856, -0.4911],\n",
       "           ...,\n",
       "           [-0.6965, -0.6281, -0.6794,  ..., -0.4226, -0.5767, -0.7308],\n",
       "           [-0.6109, -0.5767, -0.5253,  ..., -0.7479, -0.8164, -0.7137],\n",
       "           [-0.4568, -0.5082, -0.5253,  ..., -1.1932, -1.0390, -0.8849]],\n",
       " \n",
       "          [[-1.5980, -1.4405, -1.4230,  ..., -0.8627, -0.7752, -0.7052],\n",
       "           [-1.5455, -1.5105, -1.5630,  ..., -0.6001, -0.6001, -0.7752],\n",
       "           [-1.4755, -1.4580, -1.1604,  ..., -0.7052, -0.4776, -0.6877],\n",
       "           ...,\n",
       "           [-0.7577, -0.6877, -0.7402,  ..., -0.4076, -0.5651, -0.7227],\n",
       "           [-0.7752, -0.7402, -0.6877,  ..., -0.7402, -0.8102, -0.7052],\n",
       "           [-0.6702, -0.7227, -0.7227,  ..., -1.2129, -1.0553, -0.8978]],\n",
       " \n",
       "          [[-1.6302, -1.4733, -1.4559,  ..., -1.1247, -1.0550, -0.9853],\n",
       "           [-1.5779, -1.5604, -1.5953,  ..., -0.8458, -0.8284, -1.0201],\n",
       "           [-1.5430, -1.5081, -1.2293,  ..., -0.8981, -0.6541, -0.8633],\n",
       "           ...,\n",
       "           [-0.8981, -0.8284, -0.8981,  ..., -0.5844, -0.7413, -0.8981],\n",
       "           [-0.9156, -0.8981, -0.8284,  ..., -0.8807, -0.9504, -0.8458],\n",
       "           [-0.8284, -0.8807, -0.8807,  ..., -1.3164, -1.1596, -1.0027]]]]),\n",
       " tensor([6, 9, 9, 4]))"
      ]
     },
     "execution_count": 47,
     "metadata": {},
     "output_type": "execute_result"
    }
   ],
   "source": [
    "a[0], a[1]"
   ]
  },
  {
   "cell_type": "code",
   "execution_count": 48,
   "id": "d8727198-b32b-49aa-8f53-55facd521ead",
   "metadata": {},
   "outputs": [
    {
     "data": {
      "text/plain": [
       "torch.Size([3, 32, 32])"
      ]
     },
     "execution_count": 48,
     "metadata": {},
     "output_type": "execute_result"
    }
   ],
   "source": [
    "a[0][0].size()"
   ]
  },
  {
   "cell_type": "code",
   "execution_count": 49,
   "id": "2f4f3f07-c638-47a1-80f7-2ab1e4af1f6d",
   "metadata": {},
   "outputs": [
    {
     "data": {
      "text/plain": [
       "torch.Size([])"
      ]
     },
     "execution_count": 49,
     "metadata": {},
     "output_type": "execute_result"
    }
   ],
   "source": [
    "a[1][0].size()"
   ]
  },
  {
   "cell_type": "code",
   "execution_count": 50,
   "id": "52d95b59-b6af-48e6-ba97-d134b03ae06f",
   "metadata": {},
   "outputs": [],
   "source": [
    "img = a[0][2]"
   ]
  },
  {
   "cell_type": "code",
   "execution_count": 51,
   "id": "24f1c97a-7d6f-41fc-88fe-69e71008d3b3",
   "metadata": {},
   "outputs": [
    {
     "data": {
      "text/plain": [
       "torch.Size([3, 32, 32])"
      ]
     },
     "execution_count": 51,
     "metadata": {},
     "output_type": "execute_result"
    }
   ],
   "source": [
    "img.size()"
   ]
  },
  {
   "cell_type": "code",
   "execution_count": 52,
   "id": "5de507be-ebe0-49be-b59b-650f948ffc0a",
   "metadata": {},
   "outputs": [
    {
     "name": "stderr",
     "output_type": "stream",
     "text": [
      "Clipping input data to the valid range for imshow with RGB data ([0..1] for floats or [0..255] for integers).\n"
     ]
    },
    {
     "data": {
      "text/plain": [
       "<matplotlib.image.AxesImage at 0x13f5f1dc0>"
      ]
     },
     "execution_count": 52,
     "metadata": {},
     "output_type": "execute_result"
    },
    {
     "data": {
      "image/png": "[encoded data removed]",
      "text/plain": [
       "<Figure size 432x288 with 1 Axes>"
      ]
     },
     "metadata": {
      "needs_background": "light"
     },
     "output_type": "display_data"
    }
   ],
   "source": [
    "import matplotlib.pyplot as plt\n",
    "img = img.permute(1,2,0)\n",
    "plt.imshow(img)"
   ]
  },
  {
   "cell_type": "code",
   "execution_count": 53,
   "id": "32e75e85-d27d-4a25-8d22-9f95760943d9",
   "metadata": {},
   "outputs": [],
   "source": [
    "trfs = transforms.Compose([transforms.ToTensor()])"
   ]
  },
  {
   "cell_type": "code",
   "execution_count": 54,
   "id": "8a25ebf8-481d-48e2-8304-fbb501a6f987",
   "metadata": {},
   "outputs": [
    {
     "name": "stdout",
     "output_type": "stream",
     "text": [
      "Files already downloaded and verified\n"
     ]
    }
   ],
   "source": [
    "train_ds = datasets.CIFAR10(root='./CIFAR10', train=True, download=True, transform=trfs)\n",
    "train_dl = DataLoader(train_ds, batch_size=4, shuffle=False, num_workers=12)"
   ]
  },
  {
   "cell_type": "code",
   "execution_count": 55,
   "id": "fd9c1d33-b160-4b01-909b-f6845e71ca43",
   "metadata": {},
   "outputs": [
    {
     "data": {
      "text/plain": [
       "<matplotlib.image.AxesImage at 0x13f770460>"
      ]
     },
     "execution_count": 55,
     "metadata": {},
     "output_type": "execute_result"
    },
    {
     "data": {
      "image/png": "[encoded data removed]",
      "text/plain": [
       "<Figure size 432x288 with 1 Axes>"
      ]
     },
     "metadata": {
      "needs_background": "light"
     },
     "output_type": "display_data"
    }
   ],
   "source": [
    "a = next(iter(train_dl))\n",
    "img = a[0][2]\n",
    "img = img.permute(1,2,0)\n",
    "plt.imshow(img)"
   ]
  },
  {
   "cell_type": "code",
   "execution_count": null,
   "id": "5afb9724-7a8f-4e2e-a2c9-3ed6f52ebb69",
   "metadata": {},
   "outputs": [],
   "source": []
  }
 ],
 "metadata": {
  "kernelspec": {
   "display_name": "Python 3",
   "language": "python",
   "name": "python3"
  },
  "language_info": {
   "codemirror_mode": {
    "name": "ipython",
    "version": 3
   },
   "file_extension": ".py",
   "mimetype": "text/x-python",
   "name": "python",
   "nbconvert_exporter": "python",
   "pygments_lexer": "ipython3",
   "version": "3.9.5"
  }
 },
 "nbformat": 4,
 "nbformat_minor": 5
}
