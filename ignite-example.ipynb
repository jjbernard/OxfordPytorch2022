{
 "cells": [
  {
   "cell_type": "markdown",
   "id": "26605609",
   "metadata": {},
   "source": [
    "## Pytorch Ignite Example"
   ]
  },
  {
   "cell_type": "code",
   "execution_count": 1,
   "id": "c3fa24c8",
   "metadata": {},
   "outputs": [
    {
     "name": "stdout",
     "output_type": "stream",
     "text": [
      "Files already downloaded and verified\n",
      "Files already downloaded and verified\n"
     ]
    }
   ],
   "source": [
    "from ignite.engine import Events, create_supervised_trainer, create_supervised_evaluator, Engine\n",
    "from ignite.metrics import Accuracy, Loss\n",
    "from ignite.contrib.handlers import ProgressBar\n",
    "import torch\n",
    "import torchvision\n",
    "import torchvision.transforms as transforms\n",
    "import torch.nn as nn\n",
    "import torch.nn.functional as F\n",
    "import torch.optim as optim\n",
    "\n",
    "transform = transforms.Compose([transforms.ToTensor(),\n",
    "                                transforms.Normalize((0.5, 0.5, 0.5), (0.5, 0.5, 0.5))])\n",
    "\n",
    "batch_size = 8\n",
    "\n",
    "train_ds = torchvision.datasets.CIFAR10(root='./data', train=True, download=True, transform=transform)\n",
    "train_dl = torch.utils.data.DataLoader(train_ds, batch_size=batch_size, shuffle=True)\n",
    "\n",
    "val_ds = torchvision.datasets.CIFAR10(root='./data', train=False, download=True, transform=transform)\n",
    "val_dl = torch.utils.data.DataLoader(val_ds, batch_size=batch_size, shuffle=False)\n",
    "\n",
    "classes = ('plane', 'car', 'bird', 'cat', 'deer', 'dog', 'frog', 'horse', 'ship', 'truck')"
   ]
  },
  {
   "cell_type": "code",
   "execution_count": 2,
   "id": "8b331b11",
   "metadata": {},
   "outputs": [],
   "source": [
    "class Net(nn.Module):\n",
    "    def __init__(self):\n",
    "        super().__init__()\n",
    "        self.conv1 = nn.Conv2d(3, 6, 5)\n",
    "        self.pool = nn.MaxPool2d(2, 2)\n",
    "        self.conv2 = nn.Conv2d(6, 16, 5)\n",
    "        self.fc1 = nn.Linear(16 * 5 * 5, 120)\n",
    "        self.fc2 = nn.Linear(120, 84)\n",
    "        self.fc3 = nn.Linear(84, 10)\n",
    "\n",
    "    def forward(self, x):\n",
    "        x = self.pool(F.relu(self.conv1(x)))\n",
    "        x = self.pool(F.relu(self.conv2(x)))\n",
    "        x = torch.flatten(x, 1) # flatten all dimensions except batch\n",
    "        x = F.relu(self.fc1(x))\n",
    "        x = F.relu(self.fc2(x))\n",
    "        x = self.fc3(x)\n",
    "        return x\n",
    "\n",
    "\n",
    "model = Net()"
   ]
  },
  {
   "cell_type": "code",
   "execution_count": 3,
   "id": "6a9b8026",
   "metadata": {},
   "outputs": [
    {
     "data": {
      "text/plain": [
       "Net(\n",
       "  (conv1): Conv2d(3, 6, kernel_size=(5, 5), stride=(1, 1))\n",
       "  (pool): MaxPool2d(kernel_size=2, stride=2, padding=0, dilation=1, ceil_mode=False)\n",
       "  (conv2): Conv2d(6, 16, kernel_size=(5, 5), stride=(1, 1))\n",
       "  (fc1): Linear(in_features=400, out_features=120, bias=True)\n",
       "  (fc2): Linear(in_features=120, out_features=84, bias=True)\n",
       "  (fc3): Linear(in_features=84, out_features=10, bias=True)\n",
       ")"
      ]
     },
     "execution_count": 3,
     "metadata": {},
     "output_type": "execute_result"
    }
   ],
   "source": [
    "criterion = nn.CrossEntropyLoss()\n",
    "optimizer = optim.SGD(model.parameters(), lr=0.001, momentum=0.9)\n",
    "device = 'cuda' if torch.cuda.is_available() else 'cpu'\n",
    "epochs = 10\n",
    "model.to(device)"
   ]
  },
  {
   "cell_type": "code",
   "execution_count": 4,
   "id": "549f7c22",
   "metadata": {},
   "outputs": [
    {
     "data": {
      "text/plain": [
       "'cuda'"
      ]
     },
     "execution_count": 4,
     "metadata": {},
     "output_type": "execute_result"
    }
   ],
   "source": [
    "device"
   ]
  },
  {
   "cell_type": "code",
   "execution_count": 5,
   "id": "41765b14",
   "metadata": {},
   "outputs": [],
   "source": [
    "def train_step(engine, batch):\n",
    "    x, y = batch\n",
    "    x = x.to(device)\n",
    "    y = y.to(device)\n",
    "\n",
    "    model.train()\n",
    "    x = x.requires_grad_()\n",
    "    result = model(x)\n",
    "    loss = criterion(result, y)\n",
    "\n",
    "    optimizer.zero_grad()\n",
    "    loss.backward()\n",
    "    optimizer.step()\n",
    "\n",
    "    return loss"
   ]
  },
  {
   "cell_type": "code",
   "execution_count": 6,
   "id": "b1b8005f",
   "metadata": {},
   "outputs": [],
   "source": [
    "def val_step(engine, batch):\n",
    "    x, y = batch\n",
    "\n",
    "    model.eval()\n",
    "    with torch.no_grad():\n",
    "        x = x.to(device)\n",
    "        y = y.to(device)\n",
    "\n",
    "        result = model(x)\n",
    "\n",
    "        return result, y"
   ]
  },
  {
   "cell_type": "code",
   "execution_count": 7,
   "id": "fad8f6f6",
   "metadata": {},
   "outputs": [],
   "source": [
    "trainer = Engine(train_step)\n",
    "validator = Engine(val_step)"
   ]
  },
  {
   "cell_type": "code",
   "execution_count": 8,
   "id": "6eef3ed4",
   "metadata": {},
   "outputs": [],
   "source": [
    "@trainer.on(Events.STARTED)\n",
    "def start_message():\n",
    "    print(\"Training now!\")"
   ]
  },
  {
   "cell_type": "code",
   "execution_count": 9,
   "id": "988105b0",
   "metadata": {},
   "outputs": [],
   "source": [
    "@trainer.on(Events.COMPLETED)\n",
    "def done_message():\n",
    "    print(\"Training done!\")"
   ]
  },
  {
   "cell_type": "code",
   "execution_count": 10,
   "id": "e842119a",
   "metadata": {},
   "outputs": [],
   "source": [
    "@trainer.on(Events.EPOCH_COMPLETED)\n",
    "def run_test():\n",
    "    validator.run(val_dl)"
   ]
  },
  {
   "cell_type": "code",
   "execution_count": 11,
   "id": "e99708d1",
   "metadata": {},
   "outputs": [],
   "source": [
    "val_metrics = {\n",
    "    \"accuracy\": Accuracy(),\n",
    "    \"loss\": Loss(criterion)\n",
    "}"
   ]
  },
  {
   "cell_type": "code",
   "execution_count": 12,
   "id": "e58b2069",
   "metadata": {},
   "outputs": [],
   "source": [
    "for name, metric in val_metrics.items():\n",
    "    metric.attach(validator, name)"
   ]
  },
  {
   "cell_type": "code",
   "execution_count": 13,
   "id": "a35fd866",
   "metadata": {},
   "outputs": [],
   "source": [
    "train_evaluator = create_supervised_evaluator(model, metrics=val_metrics, device=device)"
   ]
  },
  {
   "cell_type": "code",
   "execution_count": 14,
   "id": "250baff3",
   "metadata": {},
   "outputs": [],
   "source": [
    "@trainer.on(Events.EPOCH_COMPLETED)\n",
    "def run_validation():\n",
    "    train_evaluator.run(train_dl)"
   ]
  },
  {
   "cell_type": "code",
   "execution_count": 15,
   "id": "e8348365",
   "metadata": {},
   "outputs": [],
   "source": [
    "@train_evaluator.on(Events.COMPLETED)\n",
    "def show_train_results():\n",
    "    metrics = train_evaluator.state.metrics\n",
    "    acc = val_metrics[\"accuracy\"].compute()\n",
    "    loss = val_metrics[\"loss\"].compute()\n",
    "    print(f\"Training results for Epoch: {trainer.state.epoch} - accuracy: {acc:.3f} - Loss: {loss:.3f}\")"
   ]
  },
  {
   "cell_type": "code",
   "execution_count": 16,
   "id": "8610d33e",
   "metadata": {},
   "outputs": [],
   "source": [
    "@validator.on(Events.COMPLETED)\n",
    "def show_valid_results():\n",
    "    metrics = validator.state.metrics\n",
    "    acc = val_metrics[\"accuracy\"].compute()\n",
    "    loss = val_metrics[\"loss\"].compute()\n",
    "    print(f\"Validation results for Epoch {validator.state.epoch} - accuracy: {acc:.3f} - Loss: {loss:.3f}\")"
   ]
  },
  {
   "cell_type": "code",
   "execution_count": 17,
   "id": "06ef5e3f",
   "metadata": {},
   "outputs": [],
   "source": [
    "#ProgressBar().attach(trainer, output_transform=lambda x: {'batch loss': x})\n",
    "ProgressBar().attach(trainer)"
   ]
  },
  {
   "cell_type": "code",
   "execution_count": 18,
   "id": "aee09faf",
   "metadata": {},
   "outputs": [
    {
     "name": "stdout",
     "output_type": "stream",
     "text": [
      "Training now!\n"
     ]
    },
    {
     "data": {
      "application/vnd.jupyter.widget-view+json": {
       "model_id": "387462a08c604391827c4a04bc490c40",
       "version_major": 2,
       "version_minor": 0
      },
      "text/plain": [
       "[1/6250]   0%|           [00:00<?]"
      ]
     },
     "metadata": {},
     "output_type": "display_data"
    },
    {
     "name": "stdout",
     "output_type": "stream",
     "text": [
      "Validation results for Epoch 1 - accuracy: 0.432 - Loss: 1.526\n",
      "Training results for Epoch: 1 - accuracy: 0.432 - Loss: 1.527\n"
     ]
    },
    {
     "data": {
      "application/vnd.jupyter.widget-view+json": {
       "model_id": "7b86c5dc0d9340cf8588aabcc1b476e2",
       "version_major": 2,
       "version_minor": 0
      },
      "text/plain": [
       "[1/6250]   0%|           [00:00<?]"
      ]
     },
     "metadata": {},
     "output_type": "display_data"
    },
    {
     "name": "stdout",
     "output_type": "stream",
     "text": [
      "Validation results for Epoch 1 - accuracy: 0.520 - Loss: 1.330\n",
      "Training results for Epoch: 2 - accuracy: 0.530 - Loss: 1.307\n"
     ]
    },
    {
     "data": {
      "application/vnd.jupyter.widget-view+json": {
       "model_id": "368d5c8239034a0a8a0afc7577c38333",
       "version_major": 2,
       "version_minor": 0
      },
      "text/plain": [
       "[1/6250]   0%|           [00:00<?]"
      ]
     },
     "metadata": {},
     "output_type": "display_data"
    },
    {
     "name": "stdout",
     "output_type": "stream",
     "text": [
      "Validation results for Epoch 1 - accuracy: 0.554 - Loss: 1.248\n",
      "Training results for Epoch: 3 - accuracy: 0.572 - Loss: 1.196\n"
     ]
    },
    {
     "data": {
      "application/vnd.jupyter.widget-view+json": {
       "model_id": "aefc048688dc456e822dfa3b8caf2b9b",
       "version_major": 2,
       "version_minor": 0
      },
      "text/plain": [
       "[1/6250]   0%|           [00:00<?]"
      ]
     },
     "metadata": {},
     "output_type": "display_data"
    },
    {
     "name": "stdout",
     "output_type": "stream",
     "text": [
      "Validation results for Epoch 1 - accuracy: 0.590 - Loss: 1.173\n",
      "Training results for Epoch: 4 - accuracy: 0.620 - Loss: 1.082\n"
     ]
    },
    {
     "data": {
      "application/vnd.jupyter.widget-view+json": {
       "model_id": "d48a15d97ba24f7f963255579d6812e9",
       "version_major": 2,
       "version_minor": 0
      },
      "text/plain": [
       "[1/6250]   0%|           [00:00<?]"
      ]
     },
     "metadata": {},
     "output_type": "display_data"
    },
    {
     "name": "stdout",
     "output_type": "stream",
     "text": [
      "Validation results for Epoch 1 - accuracy: 0.618 - Loss: 1.103\n",
      "Training results for Epoch: 5 - accuracy: 0.656 - Loss: 0.986\n"
     ]
    },
    {
     "data": {
      "application/vnd.jupyter.widget-view+json": {
       "model_id": "efd8984385604ca991164df8f6dc4091",
       "version_major": 2,
       "version_minor": 0
      },
      "text/plain": [
       "[1/6250]   0%|           [00:00<?]"
      ]
     },
     "metadata": {},
     "output_type": "display_data"
    },
    {
     "name": "stdout",
     "output_type": "stream",
     "text": [
      "Validation results for Epoch 1 - accuracy: 0.639 - Loss: 1.044\n",
      "Training results for Epoch: 6 - accuracy: 0.685 - Loss: 0.898\n"
     ]
    },
    {
     "data": {
      "application/vnd.jupyter.widget-view+json": {
       "model_id": "b749abbfa5324917a4fe513e80b732c0",
       "version_major": 2,
       "version_minor": 0
      },
      "text/plain": [
       "[1/6250]   0%|           [00:00<?]"
      ]
     },
     "metadata": {},
     "output_type": "display_data"
    },
    {
     "name": "stdout",
     "output_type": "stream",
     "text": [
      "Validation results for Epoch 1 - accuracy: 0.640 - Loss: 1.045\n",
      "Training results for Epoch: 7 - accuracy: 0.697 - Loss: 0.865\n"
     ]
    },
    {
     "data": {
      "application/vnd.jupyter.widget-view+json": {
       "model_id": "9acf8858e7b840a1bef8bab2186da31a",
       "version_major": 2,
       "version_minor": 0
      },
      "text/plain": [
       "[1/6250]   0%|           [00:00<?]"
      ]
     },
     "metadata": {},
     "output_type": "display_data"
    },
    {
     "name": "stdout",
     "output_type": "stream",
     "text": [
      "Validation results for Epoch 1 - accuracy: 0.647 - Loss: 1.034\n",
      "Training results for Epoch: 8 - accuracy: 0.712 - Loss: 0.822\n"
     ]
    },
    {
     "data": {
      "application/vnd.jupyter.widget-view+json": {
       "model_id": "0f6dcc0fe76a4e85a22b4d410f97d802",
       "version_major": 2,
       "version_minor": 0
      },
      "text/plain": [
       "[1/6250]   0%|           [00:00<?]"
      ]
     },
     "metadata": {},
     "output_type": "display_data"
    },
    {
     "name": "stdout",
     "output_type": "stream",
     "text": [
      "Validation results for Epoch 1 - accuracy: 0.629 - Loss: 1.094\n",
      "Training results for Epoch: 9 - accuracy: 0.701 - Loss: 0.843\n"
     ]
    },
    {
     "data": {
      "application/vnd.jupyter.widget-view+json": {
       "model_id": "1a667d9215aa47a489a373d63577d099",
       "version_major": 2,
       "version_minor": 0
      },
      "text/plain": [
       "[1/6250]   0%|           [00:00<?]"
      ]
     },
     "metadata": {},
     "output_type": "display_data"
    },
    {
     "name": "stdout",
     "output_type": "stream",
     "text": [
      "Validation results for Epoch 1 - accuracy: 0.650 - Loss: 1.033\n",
      "Training results for Epoch: 10 - accuracy: 0.735 - Loss: 0.756\n",
      "Training done!\n"
     ]
    },
    {
     "data": {
      "text/plain": [
       "State:\n",
       "\titeration: 62500\n",
       "\tepoch: 10\n",
       "\tepoch_length: 6250\n",
       "\tmax_epochs: 10\n",
       "\toutput: <class 'torch.Tensor'>\n",
       "\tbatch: <class 'list'>\n",
       "\tmetrics: <class 'dict'>\n",
       "\tdataloader: <class 'torch.utils.data.dataloader.DataLoader'>\n",
       "\tseed: <class 'NoneType'>\n",
       "\ttimes: <class 'dict'>"
      ]
     },
     "execution_count": 18,
     "metadata": {},
     "output_type": "execute_result"
    }
   ],
   "source": [
    "trainer.run(train_dl, max_epochs=epochs)"
   ]
  },
  {
   "cell_type": "code",
   "execution_count": null,
   "id": "13c76693",
   "metadata": {},
   "outputs": [],
   "source": []
  },
  {
   "cell_type": "code",
   "execution_count": null,
   "id": "e42e3bcd",
   "metadata": {},
   "outputs": [],
   "source": []
  }
 ],
 "metadata": {
  "kernelspec": {
   "display_name": "Python 3 (ipykernel)",
   "language": "python",
   "name": "python3"
  },
  "language_info": {
   "codemirror_mode": {
    "name": "ipython",
    "version": 3
   },
   "file_extension": ".py",
   "mimetype": "text/x-python",
   "name": "python",
   "nbconvert_exporter": "python",
   "pygments_lexer": "ipython3",
   "version": "3.8.12"
  }
 },
 "nbformat": 4,
 "nbformat_minor": 5
}
